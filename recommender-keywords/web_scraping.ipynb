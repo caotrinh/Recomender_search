{
 "cells": [
  {
   "cell_type": "code",
   "execution_count": null,
   "metadata": {},
   "outputs": [],
   "source": [
    "import requests\n",
    "import json\n",
    "from bs4 import BeautifulSoup"
   ]
  },
  {
   "cell_type": "code",
   "execution_count": null,
   "metadata": {},
   "outputs": [],
   "source": [
    "webpageurl = 'https://www.uow.edu.au/student/central/academicconsideration/UOW053903.html'\n",
    "data = requests.get(webpageurl) # Get a UOW page."
   ]
  },
  {
   "cell_type": "code",
   "execution_count": null,
   "metadata": {},
   "outputs": [],
   "source": [
    "data.text[:1000]"
   ]
  },
  {
   "cell_type": "code",
   "execution_count": null,
   "metadata": {},
   "outputs": [],
   "source": [
    "soup = BeautifulSoup(data.text,'html.parser') "
   ]
  },
  {
   "cell_type": "code",
   "execution_count": null,
   "metadata": {},
   "outputs": [],
   "source": [
    "soup.prettify()[:1000] # Prettify() used to make html readable."
   ]
  },
  {
   "cell_type": "code",
   "execution_count": null,
   "metadata": {},
   "outputs": [],
   "source": [
    "soup.head # Test getting the head of the document."
   ]
  },
  {
   "cell_type": "code",
   "execution_count": null,
   "metadata": {},
   "outputs": [],
   "source": [
    "soup.body #test body of html document"
   ]
  },
  {
   "cell_type": "code",
   "execution_count": null,
   "metadata": {},
   "outputs": [],
   "source": [
    "page_title = soup.title.text # get the title of this page whilst stripping html characters.\n",
    "print(page_title)"
   ]
  },
  {
   "cell_type": "code",
   "execution_count": null,
   "metadata": {},
   "outputs": [],
   "source": [
    "page_content = soup.find('div', {'id' : 'content'})"
   ]
  },
  {
   "cell_type": "code",
   "execution_count": null,
   "metadata": {},
   "outputs": [],
   "source": [
    "content = page_content.text\n",
    "print(content)"
   ]
  },
  {
   "cell_type": "code",
   "execution_count": null,
   "metadata": {},
   "outputs": [],
   "source": [
    "rest = content.split(\"Last reviewed\", 1)[0]\n",
    "print(rest)"
   ]
  },
  {
   "cell_type": "code",
   "execution_count": null,
   "metadata": {},
   "outputs": [
    {
     "name": "stdout",
     "output_type": "stream",
     "text": [
      "/Users/rorys/PycharmProjects/sailas-rs/recommender-keywords\n"
     ]
    }
   ],
   "source": [
    "import os\n",
    "current_directory = os.getcwd() \n",
    "if current_directory.split(\"/\")[-1] != \"recommender-keywords\":\n",
    "    os.chdir(\"../recommender-keywords\")\n",
    "    print(os.getcwd())"
   ]
  },
  {
   "cell_type": "code",
   "execution_count": 20,
   "metadata": {},
   "outputs": [],
   "source": [
    "# Load the sitemap scrape.\n",
    "path = \"uow-scrape.json\"\n",
    "sitemap_file = open(path, 'r')\n",
    "sitemap = sitemap_file.read()"
   ]
  },
  {
   "cell_type": "code",
   "execution_count": null,
   "metadata": {},
   "outputs": [],
   "source": [
    "pages = json.loads(sitemap)\n",
    "\n",
    "# Test getting the first URL\n",
    "print(list(pages[0].values())[0])"
   ]
  },
  {
   "cell_type": "code",
   "execution_count": null,
   "metadata": {},
   "outputs": [],
   "source": [
    "def send(data):\n",
    "    # Variable to store our query in.\n",
    "    query = {}\n",
    "    \n",
    "    print(v['id'], v['question'], v['answer'])\n",
    "    query['id'] = v['id']\n",
    "    query['question'] = v['question']\n",
    "    query['answer'] = v['answer']\n",
    "    \n",
    "    # Payload is now ready.\n",
    "    payload = json.dumps(query)\n",
    "    r = requests.post(\"http://HOST:9200/sailas/resource/\", data=payload, headers=headers)\n",
    "    print(r.status_code, r.reason, v)"
   ]
  },
  {
   "cell_type": "code",
   "execution_count": null,
   "metadata": {},
   "outputs": [],
   "source": [
    "# This will iterate through the sitemap scrape and get each page's content and title.\n",
    "# Data will be sent to a SQLite3 DB.\n",
    "\n",
    "import sqlite3\n",
    "conn = sqlite3.connect('keywords.db')\n",
    "\n",
    "c = conn.cursor()\n",
    "count_pages = 0\n",
    "\n",
    "try:\n",
    "    c.execute(\"CREATE TABLE content_scrape (title text, url text, content text)\")\n",
    "except:\n",
    "    print(\"Already created.\")\n",
    "\n",
    "for page in pages:\n",
    "    webpageurl = list(page.values())[0]\n",
    "    if \"/student/\" in webpageurl:\n",
    "        try:\n",
    "            data = requests.get(webpageurl) # Get a UOW page.\n",
    "        except:\n",
    "            print(\"Request timed out.\", webpageurl)\n",
    "\n",
    "        soup = BeautifulSoup(data.text, 'html.parser')\n",
    "\n",
    "        try:\n",
    "            page_title = soup.title.text # Get the title of this page whilst stripping html characters.\n",
    "            print(page_title)\n",
    "        except:\n",
    "            print(\"This page has no title.\")\n",
    "            page_title = \"\"\n",
    "        try:\n",
    "            page_content = soup.find('div', {'id' : 'content'})\n",
    "            content = page_content.text\n",
    "            rest = content.split(\"Last reviewed\", 1)[0].rstrip('\\n')\n",
    "\n",
    "        except:\n",
    "            print(\"Empty page.\")\n",
    "            rest = \"\"\n",
    "\n",
    "        query = []\n",
    "        query.append([str(page_title), str(webpageurl), str(rest)])\n",
    "\n",
    "        try:\n",
    "            c.executemany('INSERT INTO content_scrape VALUES (?, ?, ?)', query)\n",
    "            conn.commit()\n",
    "        except:\n",
    "            print(\"DB write failed.\")\n",
    "\n",
    "        count_pages = count_pages + 1\n",
    "        print(count_pages, \"have been completed.\")\n",
    "    else:\n",
    "        print(\"Skipping\", webpageurl)\n",
    "\n",
    "conn.close()\n",
    "    "
   ]
  },
  {
   "cell_type": "code",
   "execution_count": null,
   "metadata": {},
   "outputs": [],
   "source": [
    "if \"/student/\" in list(page.values())[0]: \n",
    "   print('success')"
   ]
  },
  {
   "cell_type": "code",
   "execution_count": null,
   "metadata": {},
   "outputs": [],
   "source": []
  }
 ],
 "metadata": {
  "kernelspec": {
   "display_name": "test-uow",
   "language": "python",
   "name": "test-uow"
  },
  "language_info": {
   "codemirror_mode": {
    "name": "ipython",
    "version": 3
   },
   "file_extension": ".py",
   "mimetype": "text/x-python",
   "name": "python",
   "nbconvert_exporter": "python",
   "pygments_lexer": "ipython3",
   "version": "3.7.0"
  }
 },
 "nbformat": 4,
 "nbformat_minor": 2
}
